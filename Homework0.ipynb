{
 "cells": [
  {
   "cell_type": "markdown",
   "id": "59da5643-5fd0-4b31-ae43-38fce1c4b00c",
   "metadata": {},
   "source": [
    "# Homework 0"
   ]
  },
  {
   "cell_type": "code",
   "execution_count": 2,
   "id": "c0617e42-68ab-4f2e-b859-1c7abfc8fd47",
   "metadata": {},
   "outputs": [
    {
     "name": "stdout",
     "output_type": "stream",
     "text": [
      "Hello world\n",
      "12\n"
     ]
    }
   ],
   "source": [
    "#first jupyter notebook\n",
    "\n",
    "print(\"Hello world\")\n",
    "\n",
    "a = 5+7\n",
    "print(a)\n"
   ]
  },
  {
   "cell_type": "code",
   "execution_count": null,
   "id": "a439df8d-d845-45c4-8709-d666b47f0a17",
   "metadata": {},
   "outputs": [],
   "source": []
  }
 ],
 "metadata": {
  "kernelspec": {
   "display_name": "Python 3 (ipykernel)",
   "language": "python",
   "name": "python3"
  },
  "language_info": {
   "codemirror_mode": {
    "name": "ipython",
    "version": 3
   },
   "file_extension": ".py",
   "mimetype": "text/x-python",
   "name": "python",
   "nbconvert_exporter": "python",
   "pygments_lexer": "ipython3",
   "version": "3.9.12"
  }
 },
 "nbformat": 4,
 "nbformat_minor": 5
}
